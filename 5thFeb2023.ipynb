{
 "cells": [
  {
   "cell_type": "code",
   "execution_count": 1,
   "id": "a1048262-92ca-48ba-96cb-ed9b1d036ea1",
   "metadata": {},
   "outputs": [
    {
     "name": "stdout",
     "output_type": "stream",
     "text": [
      "Name is  rak0\n",
      "Age is 30\n",
      "Name is  rak2\n",
      "Age is 32\n",
      "Name is  rak0\n",
      "Age is 30\n",
      "Name is  rak2\n",
      "Age is 32\n",
      "Name is  rak0\n",
      "Age is 30\n",
      "Welcome  raku2 35  to the year  2008\n"
     ]
    }
   ],
   "source": [
    "''' 5thFeb2023 '''\n",
    "'''Q1'''\n",
    "\n",
    "'''Everything in Python is an object, with its properties and methods.\n",
    "A Class is like an object constructor, or a \"blueprint\" for creating objects. '''\n",
    "\n",
    "class Person:\n",
    "    \n",
    "    def __init__(self,name,age):\n",
    "        self.name = name\n",
    "        self.age = age\n",
    "        \n",
    "    def show_person_details(self):\n",
    "        print(\"Name is \", self.name)\n",
    "        print(\"Age is\",self.age)\n",
    "        \n",
    "p0 = Person(\"rak0\",30)\n",
    "p1 = Person(\"rak1\",31)\n",
    "p2 = Person(\"rak2\",32)\n",
    "\n",
    "p0.show_person_details()\n",
    "p2.show_person_details()\n",
    "\n",
    "'''Q2'''\n",
    "''' Foue Pillers of OPPS\n",
    "    Abstraction.\n",
    "    Encapsulation.\n",
    "    Inheritance.\n",
    "    Polymorphism.\n",
    "'''\n",
    "\n",
    "''' Q3 '''\n",
    "''' __init__() method is used for initializing the class variables of the class '''\n",
    "\n",
    "''' Q4 '''\n",
    "''' self represent the instance of the class, we use self to access the class variables and method in the class defination '''\n",
    "\n",
    "''' Q5 '''\n",
    "''' Inheritance allows us to define a class that inherits all the methods and properties from another class. '''\n",
    "\n",
    "class Person:\n",
    "    \n",
    "    def __init__(self,name,age):\n",
    "        self.name = name\n",
    "        self.age = age\n",
    "        \n",
    "    def show_person_details(self):\n",
    "        print(\"Name is \", self.name)\n",
    "        print(\"Age is\",self.age)\n",
    "        \n",
    "''' Below will inherit the properties and methods from the Person class '''\t\t\n",
    "class student(Person):\n",
    "    pass\n",
    "''' Now the Student class has the same properties and methods as the Person class. '''\n",
    "\n",
    "p0 = Person(\"rak0\",30)\n",
    "p1 = Person(\"rak1\",31)\n",
    "p2 = Person(\"rak2\",32)\n",
    "\n",
    "p0.show_person_details()\n",
    "p2.show_person_details()\n",
    "\n",
    "''' student is able to call show_person_details method of base class '''\n",
    "s0 = student(\"rak0\",30)\n",
    "s0.show_person_details()\n",
    "\n",
    "class Person1:\n",
    "    \n",
    "    def __init__(self,name,age):\n",
    "        self.name = name\n",
    "        self.age = age\n",
    "        \n",
    "    def show_person_details(self):\n",
    "        print(\"Name is \", self.name)\n",
    "        print(\"Age is\",self.age)\n",
    "\t\t\n",
    "class student1(Person1):\n",
    "    def __init__(self,name,age,year):\n",
    "        Person1.__init__(self,name,age)\n",
    "        self.graduateYear = year\n",
    "        \n",
    "    def great_student(self):\n",
    "        print(\"Welcome \",self.name,self.age,\" to the year \",self.graduateYear)\n",
    "\t    \n",
    "s1 = student1(\"raku2\",35,2008)\n",
    "s1.great_student()"
   ]
  },
  {
   "cell_type": "code",
   "execution_count": 2,
   "id": "666db567-f57b-4e17-a44c-08c1f8c13054",
   "metadata": {},
   "outputs": [
    {
     "name": "stdout",
     "output_type": "stream",
     "text": [
      "Name is  rak0\n",
      "Age is 30\n",
      "Name is  rak2\n",
      "Age is 32\n"
     ]
    }
   ],
   "source": [
    "'''Q1'''\n",
    "\n",
    "'''Everything in Python is an object, with its properties and methods.\n",
    "A Class is like an object constructor, or a \"blueprint\" for creating objects. '''\n",
    "\n",
    "class Person:\n",
    "    \n",
    "    def __init__(self,name,age):\n",
    "        self.name = name\n",
    "        self.age = age\n",
    "        \n",
    "    def show_person_details(self):\n",
    "        print(\"Name is \", self.name)\n",
    "        print(\"Age is\",self.age)\n",
    "        \n",
    "p0 = Person(\"rak0\",30)\n",
    "p1 = Person(\"rak1\",31)\n",
    "p2 = Person(\"rak2\",32)\n",
    "\n",
    "p0.show_person_details()\n",
    "p2.show_person_details()\n"
   ]
  },
  {
   "cell_type": "code",
   "execution_count": 3,
   "id": "26fd9bd3-f613-4d66-b17a-532a1d921098",
   "metadata": {},
   "outputs": [
    {
     "name": "stdout",
     "output_type": "stream",
     "text": [
      "Name is  rak0\n",
      "Age is 30\n",
      "Name is  rak2\n",
      "Age is 32\n"
     ]
    }
   ],
   "source": [
    "'''Q1'''\n",
    "\n",
    "'''Everything in Python is an object, with its properties and methods.\n",
    "A Class is like an object constructor, or a \"blueprint\" for creating objects. '''\n",
    "\n",
    "class Person:\n",
    "    \n",
    "    def __init__(self,name,age):\n",
    "        self.name = name\n",
    "        self.age = age\n",
    "        \n",
    "    def show_person_details(self):\n",
    "        print(\"Name is \", self.name)\n",
    "        print(\"Age is\",self.age)\n",
    "        \n",
    "p0 = Person(\"rak0\",30)\n",
    "p1 = Person(\"rak1\",31)\n",
    "p2 = Person(\"rak2\",32)\n",
    "\n",
    "p0.show_person_details()\n",
    "p2.show_person_details()\n"
   ]
  },
  {
   "cell_type": "code",
   "execution_count": null,
   "id": "d3f4b1e3-b62b-4552-a58c-ac708f1f2dd7",
   "metadata": {},
   "outputs": [],
   "source": []
  }
 ],
 "metadata": {
  "kernelspec": {
   "display_name": "Python 3 (ipykernel)",
   "language": "python",
   "name": "python3"
  },
  "language_info": {
   "codemirror_mode": {
    "name": "ipython",
    "version": 3
   },
   "file_extension": ".py",
   "mimetype": "text/x-python",
   "name": "python",
   "nbconvert_exporter": "python",
   "pygments_lexer": "ipython3",
   "version": "3.10.8"
  }
 },
 "nbformat": 4,
 "nbformat_minor": 5
}
